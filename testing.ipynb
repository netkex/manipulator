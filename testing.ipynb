{
 "cells": [
  {
   "cell_type": "code",
   "execution_count": 1,
   "metadata": {},
   "outputs": [],
   "source": [
    "from manipulator import * \n",
    "from obstacle import *\n",
    "import numpy as np "
   ]
  },
  {
   "cell_type": "markdown",
   "metadata": {},
   "source": [
    "### Manipulator"
   ]
  },
  {
   "cell_type": "markdown",
   "metadata": {},
   "source": [
    "#### Coordinates"
   ]
  },
  {
   "cell_type": "code",
   "execution_count": 3,
   "metadata": {},
   "outputs": [
    {
     "data": {
      "text/plain": [
       "array([[ 0.   ,  0.   ,  0.   ],\n",
       "       [ 0.5  ,  0.   ,  0.866],\n",
       "       [ 1.   ,  0.   , -0.   ]], dtype=float16)"
      ]
     },
     "execution_count": 3,
     "metadata": {},
     "output_type": "execute_result"
    }
   ],
   "source": [
    "manipulator = Manipulator(\n",
    "     joint_num=3,\n",
    "     joint_angles=[0, np.pi / 3, np.pi / 3]\n",
    ")\n",
    "manipulator.get_joint_coordinates().astype('float16')"
   ]
  },
  {
   "cell_type": "code",
   "execution_count": 4,
   "metadata": {},
   "outputs": [
    {
     "data": {
      "text/plain": [
       "array([[ 0.   ,  0.   ,  0.   ],\n",
       "       [ 0.   ,  0.5  ,  0.866],\n",
       "       [ 0.   ,  1.   , -0.   ]], dtype=float16)"
      ]
     },
     "execution_count": 4,
     "metadata": {},
     "output_type": "execute_result"
    }
   ],
   "source": [
    "manipulator = Manipulator(\n",
    "     joint_num=3,\n",
    "     joint_angles=[np.pi / 2, np.pi / 3, np.pi / 3]\n",
    ")\n",
    "manipulator.get_joint_coordinates().astype('float16')"
   ]
  },
  {
   "cell_type": "code",
   "execution_count": 5,
   "metadata": {},
   "outputs": [
    {
     "data": {
      "text/plain": [
       "array([[ 0.    ,  0.    ,  0.    ],\n",
       "       [ 0.3535,  0.3535,  0.866 ],\n",
       "       [ 0.707 ,  0.707 , -0.    ]], dtype=float16)"
      ]
     },
     "execution_count": 5,
     "metadata": {},
     "output_type": "execute_result"
    }
   ],
   "source": [
    "manipulator = Manipulator(\n",
    "     joint_num=3,\n",
    "     joint_angles=[np.pi / 4, np.pi / 3, np.pi / 3]\n",
    ")\n",
    "manipulator.get_joint_coordinates().astype('float16')"
   ]
  },
  {
   "cell_type": "code",
   "execution_count": 3,
   "metadata": {},
   "outputs": [
    {
     "data": {
      "text/plain": [
       "array([[ 0.   ,  0.   ,  0.   ],\n",
       "       [ 0.5  ,  0.   ,  0.866],\n",
       "       [ 1.   ,  0.   , -0.   ],\n",
       "       [ 1.5  ,  0.   , -0.866],\n",
       "       [ 2.5  ,  0.   , -0.866]], dtype=float16)"
      ]
     },
     "execution_count": 3,
     "metadata": {},
     "output_type": "execute_result"
    }
   ],
   "source": [
    "manipulator = Manipulator(\n",
    "     joint_num=5,\n",
    "     joint_angles=[0, np.pi / 3, np.pi / 3, np.pi, 4 / 3 * np.pi]\n",
    ")\n",
    "manipulator.get_joint_coordinates().astype('float16')"
   ]
  },
  {
   "cell_type": "markdown",
   "metadata": {},
   "source": [
    "#### Successors"
   ]
  },
  {
   "cell_type": "code",
   "execution_count": 6,
   "metadata": {},
   "outputs": [],
   "source": [
    "manipulator = Manipulator(\n",
    "     joint_num=5,\n",
    "     angle_delta=np.pi / 90,\n",
    "     joint_angles=[0, np.pi / 3, np.pi / 3, np.pi, 4 / 3 * np.pi]\n",
    ")\n",
    "successors = manipulator.get_successors()"
   ]
  },
  {
   "cell_type": "code",
   "execution_count": 8,
   "metadata": {},
   "outputs": [
    {
     "name": "stdout",
     "output_type": "stream",
     "text": [
      "init coordinates:\n",
      "[[ 0.     0.     0.   ]\n",
      " [ 0.5    0.     0.866]\n",
      " [ 1.     0.    -0.   ]\n",
      " [ 1.5    0.    -0.866]\n",
      " [ 2.5    0.    -0.866]]\n",
      "successors 0:\n",
      "[[ 0.       0.       0.     ]\n",
      " [ 0.4998  -0.01746  0.866  ]\n",
      " [ 0.9995  -0.0349  -0.     ]\n",
      " [ 1.499   -0.05234 -0.866  ]\n",
      " [ 2.498   -0.0872  -0.866  ]]\n",
      "successors 1:\n",
      "[[ 0.       0.       0.     ]\n",
      " [ 0.4998   0.01746  0.866  ]\n",
      " [ 0.9995   0.0349  -0.     ]\n",
      " [ 1.499    0.05234 -0.866  ]\n",
      " [ 2.498    0.0872  -0.866  ]]\n",
      "successors 2:\n",
      "[[ 0.      0.      0.    ]\n",
      " [ 0.53    0.      0.848 ]\n",
      " [ 0.9995  0.     -0.0349]\n",
      " [ 1.469   0.     -0.918 ]\n",
      " [ 2.469   0.     -0.9526]]\n",
      "successors 3:\n",
      "[[ 0.      0.      0.    ]\n",
      " [ 0.4695  0.      0.883 ]\n",
      " [ 0.9995  0.      0.0349]\n",
      " [ 1.529   0.     -0.813 ]\n",
      " [ 2.53    0.     -0.7783]]\n",
      "successors 4:\n",
      "[[ 0.       0.       0.     ]\n",
      " [ 0.5      0.       0.866  ]\n",
      " [ 0.969    0.      -0.01692]\n",
      " [ 1.438    0.      -0.9    ]\n",
      " [ 2.438    0.      -0.9346 ]]\n",
      "successors 5:\n",
      "[[ 0.       0.       0.     ]\n",
      " [ 0.5      0.       0.866  ]\n",
      " [ 1.03     0.       0.01797]\n",
      " [ 1.56     0.      -0.83   ]\n",
      " [ 2.559    0.      -0.7954 ]]\n",
      "successors 6:\n",
      "[[ 0.     0.     0.   ]\n",
      " [ 0.5    0.     0.866]\n",
      " [ 1.     0.    -0.   ]\n",
      " [ 1.47   0.    -0.883]\n",
      " [ 2.469  0.    -0.918]]\n",
      "successors 7:\n",
      "[[ 0.     0.     0.   ]\n",
      " [ 0.5    0.     0.866]\n",
      " [ 1.     0.    -0.   ]\n",
      " [ 1.53   0.    -0.848]\n",
      " [ 2.53   0.    -0.813]]\n",
      "successors 8:\n",
      "[[ 0.     0.     0.   ]\n",
      " [ 0.5    0.     0.866]\n",
      " [ 1.     0.    -0.   ]\n",
      " [ 1.5    0.    -0.866]\n",
      " [ 2.5    0.    -0.901]]\n",
      "successors 9:\n",
      "[[ 0.     0.     0.   ]\n",
      " [ 0.5    0.     0.866]\n",
      " [ 1.     0.    -0.   ]\n",
      " [ 1.5    0.    -0.866]\n",
      " [ 2.5    0.    -0.831]]\n"
     ]
    }
   ],
   "source": [
    "print(\"init coordinates:\") \n",
    "print(manipulator.get_joint_coordinates().astype('float16'))\n",
    "assert(len(successors) == 2 * manipulator.joint_num)\n",
    "for i in range(len(successors)): \n",
    "    print(f\"successors {i}:\")\n",
    "    print(successors[i].get_joint_coordinates().astype('float16'))"
   ]
  },
  {
   "cell_type": "markdown",
   "metadata": {},
   "source": [
    "### Obstacles"
   ]
  },
  {
   "cell_type": "markdown",
   "metadata": {},
   "source": [
    "#### Sphere obstacles"
   ]
  },
  {
   "cell_type": "code",
   "execution_count": 9,
   "metadata": {},
   "outputs": [],
   "source": [
    "manipulator = Manipulator(\n",
    "     joint_num=5,\n",
    "     angle_delta=np.pi / 90,\n",
    "     joint_angles=[0, np.pi / 3, np.pi / 3, np.pi, 4 / 3 * np.pi]\n",
    ")\n",
    "successors = manipulator.get_successors()"
   ]
  },
  {
   "cell_type": "code",
   "execution_count": 10,
   "metadata": {},
   "outputs": [],
   "source": [
    "obstacle1 = SphereObstacle(\n",
    "    center=np.array([0.5, 0, 0]),\n",
    "    r=0.25,\n",
    ")\n",
    "\n",
    "obstacle2 = SphereObstacle(\n",
    "    center=np.array([0.8, 0.1, 0.4]), \n",
    "    r=0.2,\n",
    ")\n",
    "\n",
    "obstacle3 = SphereObstacle(\n",
    "    center=np.array([0.8, 0.1, 0.4]), \n",
    "    r=0.1,\n",
    ")\n",
    "\n",
    "assert(~obstacle1.intersect(manipulator))\n",
    "assert(obstacle2.intersect(manipulator))\n",
    "assert(~obstacle3.intersect(manipulator))"
   ]
  },
  {
   "cell_type": "markdown",
   "metadata": {},
   "source": [
    "#### Polygon obstacles"
   ]
  }
 ],
 "metadata": {
  "kernelspec": {
   "display_name": "Python 3 (ipykernel)",
   "language": "python",
   "name": "python3"
  },
  "language_info": {
   "codemirror_mode": {
    "name": "ipython",
    "version": 3
   },
   "file_extension": ".py",
   "mimetype": "text/x-python",
   "name": "python",
   "nbconvert_exporter": "python",
   "pygments_lexer": "ipython3",
   "version": "3.10.6"
  },
  "vscode": {
   "interpreter": {
    "hash": "1b28fc636b49273a7f3b8f48eb175b4218c9efe48e02b5c5404dd0d0ed36d1bd"
   }
  }
 },
 "nbformat": 4,
 "nbformat_minor": 2
}
